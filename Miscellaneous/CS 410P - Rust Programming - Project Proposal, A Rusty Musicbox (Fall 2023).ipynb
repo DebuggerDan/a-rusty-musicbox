{
 "cells": [
  {
   "cell_type": "markdown",
   "metadata": {},
   "source": [
    "# **CS 410P: Rust Programming, Fall 2023 - Course Project Proposal**\n",
    "Dan Jang, yeh2@pdx.edu - 10/27/2023\n",
    "\n",
    "## **Project Title**:\n",
    "*A Rusty Musicbox*"
   ]
  },
  {
   "cell_type": "markdown",
   "metadata": {},
   "source": [
    "### **Team Member(s)**:\n",
    "Dan J."
   ]
  },
  {
   "cell_type": "markdown",
   "metadata": {},
   "source": [
    "#### ***GitHub* Repository URL**:\n",
    "[https://github.com/DebuggerDan/a-rusty-musicbox](https://github.com/DebuggerDan/a-rusty-musicbox)"
   ]
  },
  {
   "cell_type": "markdown",
   "metadata": {},
   "source": [
    "#### **Project Topic Area**:\n",
    "Music generation, playback, and simulation!"
   ]
  },
  {
   "cell_type": "markdown",
   "metadata": {},
   "source": [
    "##### **Project Vision**:\n",
    "Creating a Rust-based program that will feature music & audio generation, playback, & simulation.\n",
    "\n",
    "Specifically, *A Rusty Musicbox* will feature hopefully one or more instruments for simulation, at least a virtual piano or a MIDI-emulation feature, playback of generated music, & if time allows / if feasible, a simple GUI for user-interactivity.\n",
    "\n",
    "The following features are currently in mind for this project:\n",
    "\n",
    "    I.) Some sort of instrument simulation, e.g., a virtual piano.\n",
    "\n",
    "    II.) MIDI-file processing or parsing used in the project.\n",
    "\n",
    "    III.) Music generation.\n",
    "\n",
    "    IV.) If feasible / time allows, interactivity, ideally, for controlling music generation.\n",
    "\n",
    "I hope to make this project feature, hopefully, more than just a MIDI/Piano player, hence, it not being called *A Rusty Piano*, but try to apply my knowledge & skillsets learned from our wonderful Spring '22 class, *CS 410P: Music, Sound, & Computers*, and specifically, taking concepts learned from building our then-group's [*M.A.N.G.O.* Project](https://gitlab.cecs.pdx.edu/git/cs410p-msc-group-epic-project) (*Musical Analysis Note Generation Operator*) - where our group had built a *Python*-based music generator, that 'interpreted' Python code to generate a specific, generated music file.\n",
    "\n",
    "However, since we do not want to simply repeat previous course projects, in this Rust project for Fall 2023, I will instead try to focus on making a virtual musicbox program, that generates music more based in the traditional sense of playing music, e.g., instrument(s), MIDI parsing/processing, interactive music generation, etc."
   ]
  },
  {
   "cell_type": "markdown",
   "metadata": {},
   "source": [
    "##### **Possible Project Issues**:\n",
    "\n",
    "While I do think an interactive functionality through a GUI/UI may be key in making *A Rusty Musicbox* seem more fun to use & seems 'right to do' for a cool musicbox program, I have read that *Rust* may be [slightly more difficult](https://www.warp.dev/blog/why-is-building-a-ui-in-rust-so-hard) comparatively in implementing GUIs.\n",
    "\n",
    "Thus, in regards to interactivity or with the possible GUI/UI features, I may have to resort to switching focus to more on the library crate aspect more than making the GUI/UI more refined/cooler, or hopefully not, where I may have to resort to purely a library crate-based project - in that case, at least a CLI-based example for driving the program may still be feasible, e.g., possibly taking in live keyboard input for a simulated piano feature, parsing MIDI files for virtual piano (or other instruments) music playback, etc.\n",
    "\n",
    "Otherwise, I think the project should be feasible either as a library crate or one bundled with a cool/simple GUI/UI, where I want to focus on usability or the element of fun from the functionalities of the project, and hopefully, make a neat Rust course project."
   ]
  }
 ],
 "metadata": {
  "kernelspec": {
   "display_name": "Python 3",
   "language": "python",
   "name": "python3"
  },
  "language_info": {
   "name": "python",
   "version": "3.10.4"
  }
 },
 "nbformat": 4,
 "nbformat_minor": 2
}
